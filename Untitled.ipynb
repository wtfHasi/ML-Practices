{
 "cells": [
  {
   "cell_type": "code",
   "execution_count": 1,
   "id": "f8f1fb7f-b66a-454e-a107-0e79d1c1429b",
   "metadata": {},
   "outputs": [],
   "source": [
    "# imports\n",
    "\n",
    "import requests\n",
    "from bs4 import BeautifulSoup\n",
    "from IPython.display import Markdown, display"
   ]
  },
  {
   "cell_type": "code",
   "execution_count": 2,
   "id": "b27b8e70-e562-45dc-abca-29e660f43997",
   "metadata": {},
   "outputs": [],
   "source": [
    "# Constants\n",
    "\n",
    "OLLAMA_API = \"http://localhost:11434/api/chat\"\n",
    "HEADERS = {\"Content-Type\": \"application/json\"}\n",
    "MODEL = \"llama3.2\""
   ]
  },
  {
   "cell_type": "code",
   "execution_count": 3,
   "id": "61560869-8ba1-4ba7-a318-c11906f1a679",
   "metadata": {},
   "outputs": [],
   "source": [
    "# Create a messages list using the same format that we used for OpenAI\n",
    "\n",
    "messages = [\n",
    "    {\"role\": \"user\", \"content\": \"Describe some of the business applications of Generative AI\"}\n",
    "]"
   ]
  },
  {
   "cell_type": "code",
   "execution_count": 4,
   "id": "a208fb79-b6c1-4407-b64c-fe879ec3e41e",
   "metadata": {},
   "outputs": [],
   "source": [
    "payload = {\n",
    "        \"model\": MODEL,\n",
    "        \"messages\": messages,\n",
    "        \"stream\": False\n",
    "    }"
   ]
  },
  {
   "cell_type": "code",
   "execution_count": 5,
   "id": "161aa902-81f1-41d8-844f-50fe602f4ff7",
   "metadata": {},
   "outputs": [
    {
     "name": "stderr",
     "output_type": "stream",
     "text": [
      "\u001b[?25lpulling manifest â ‹ \u001b[?25h\u001b[?25l\u001b[2K\u001b[1Gpulling manifest â ™ \u001b[?25h\u001b[?25l\u001b[2K\u001b[1Gpulling manifest â ¹ \u001b[?25h\u001b[?25l\u001b[2K\u001b[1Gpulling manifest â ¸ \u001b[?25h\u001b[?25l\u001b[2K\u001b[1Gpulling manifest â ¼ \u001b[?25h\u001b[?25l\u001b[2K\u001b[1Gpulling manifest â ´ \u001b[?25h\u001b[?25l\u001b[2K\u001b[1Gpulling manifest â ¦ \u001b[?25h\u001b[?25l\u001b[2K\u001b[1Gpulling manifest â § \u001b[?25h\u001b[?25l\u001b[2K\u001b[1Gpulling manifest â ‡ \u001b[?25h\u001b[?25l\u001b[2K\u001b[1Gpulling manifest â � \u001b[?25h\u001b[?25l\u001b[2K\u001b[1Gpulling manifest \n",
      "pulling dde5aa3fc5ff... 100% â–•â–ˆâ–ˆâ–ˆâ–ˆâ–ˆâ–ˆâ–ˆâ–ˆâ–ˆâ–ˆâ–ˆâ–ˆâ–ˆâ–ˆâ–ˆâ–ˆâ–� 2.0 GB                         \n",
      "pulling 966de95ca8a6... 100% â–•â–ˆâ–ˆâ–ˆâ–ˆâ–ˆâ–ˆâ–ˆâ–ˆâ–ˆâ–ˆâ–ˆâ–ˆâ–ˆâ–ˆâ–ˆâ–ˆâ–� 1.4 KB                         \n",
      "pulling fcc5a6bec9da... 100% â–•â–ˆâ–ˆâ–ˆâ–ˆâ–ˆâ–ˆâ–ˆâ–ˆâ–ˆâ–ˆâ–ˆâ–ˆâ–ˆâ–ˆâ–ˆâ–ˆâ–� 7.7 KB                         \n",
      "pulling a70ff7e570d9... 100% â–•â–ˆâ–ˆâ–ˆâ–ˆâ–ˆâ–ˆâ–ˆâ–ˆâ–ˆâ–ˆâ–ˆâ–ˆâ–ˆâ–ˆâ–ˆâ–ˆâ–� 6.0 KB                         \n",
      "pulling 56bb8bd477a5... 100% â–•â–ˆâ–ˆâ–ˆâ–ˆâ–ˆâ–ˆâ–ˆâ–ˆâ–ˆâ–ˆâ–ˆâ–ˆâ–ˆâ–ˆâ–ˆâ–ˆâ–�   96 B                         \n",
      "pulling 34bb5ab01051... 100% â–•â–ˆâ–ˆâ–ˆâ–ˆâ–ˆâ–ˆâ–ˆâ–ˆâ–ˆâ–ˆâ–ˆâ–ˆâ–ˆâ–ˆâ–ˆâ–ˆâ–�  561 B                         \n",
      "verifying sha256 digest \n",
      "writing manifest \n",
      "success \u001b[?25h\n"
     ]
    }
   ],
   "source": [
    "# Let's just make sure the model is loaded\n",
    "\n",
    "!ollama pull llama3.2"
   ]
  },
  {
   "cell_type": "code",
   "execution_count": 6,
   "id": "1addaf42-9f77-45ce-af42-a6fb2004af8c",
   "metadata": {},
   "outputs": [
    {
     "name": "stdout",
     "output_type": "stream",
     "text": [
      "Generative AI has numerous business applications across various industries, including:\n",
      "\n",
      "1. **Content Creation**: Generative AI can generate high-quality content such as articles, social media posts, product descriptions, and even entire books. This can help reduce the time and cost associated with traditional content creation methods.\n",
      "2. **Marketing Automation**: Generative AI can be used to create personalized marketing campaigns, such as customized email templates, ad copy, and social media posts. This can help improve customer engagement and conversion rates.\n",
      "3. **Product Design**: Generative AI can be used to design new products, such as clothing, furniture, and electronics. This can help reduce the time and cost associated with traditional product design methods.\n",
      "4. **Data Analysis**: Generative AI can be used to analyze large datasets and identify patterns, trends, and insights that may not be apparent through traditional analysis methods.\n",
      "5. **Customer Service Chatbots**: Generative AI can be used to create chatbots that can understand and respond to customer queries in a more human-like way.\n",
      "6. **Image and Video Generation**: Generative AI can be used to generate high-quality images and videos for various applications, such as advertising, entertainment, and education.\n",
      "7. **Predictive Maintenance**: Generative AI can be used to analyze sensor data from machines and predict when maintenance is required, helping to reduce downtime and improve overall efficiency.\n",
      "8. **Supply Chain Optimization**: Generative AI can be used to optimize supply chain operations, including forecasting demand, managing inventory, and predicting shipping times.\n",
      "9. **Financial Analysis**: Generative AI can be used to analyze large financial datasets and identify trends, patterns, and insights that may not be apparent through traditional analysis methods.\n",
      "10. **Education and Training**: Generative AI can be used to create personalized learning experiences for students, including customized lesson plans, interactive simulations, and adaptive assessments.\n",
      "\n",
      "Some specific business applications of Generative AI include:\n",
      "\n",
      "* **Chatbots for customer support**: Generative AI-powered chatbots can help provide 24/7 customer support and answer common queries quickly and efficiently.\n",
      "* **Personalized product recommendations**: Generative AI-powered systems can analyze customer behavior and preferences to provide personalized product recommendations.\n",
      "* **Automated content generation**: Generative AI can be used to automate the creation of content, such as social media posts, blog articles, and email newsletters.\n",
      "* **Predictive maintenance for manufacturing**: Generative AI can be used to predict when equipment is likely to fail, allowing for proactive maintenance and reducing downtime.\n",
      "\n",
      "These are just a few examples of the many business applications of Generative AI. As the technology continues to evolve, we can expect to see even more innovative uses in various industries.\n"
     ]
    }
   ],
   "source": [
    "response = requests.post(OLLAMA_API, json=payload, headers=HEADERS)\n",
    "print(response.json()['message']['content'])"
   ]
  },
  {
   "cell_type": "code",
   "execution_count": 7,
   "id": "ff9ec8a9-17a9-4625-a922-e7b76526f71d",
   "metadata": {
    "scrolled": true
   },
   "outputs": [
    {
     "name": "stdout",
     "output_type": "stream",
     "text": [
      "Requirement already satisfied: ollama in c:\\programdata\\anaconda3\\lib\\site-packages (0.4.5)\n",
      "Requirement already satisfied: httpx<0.28.0,>=0.27.0 in c:\\programdata\\anaconda3\\lib\\site-packages (from ollama) (0.27.0)\n",
      "Requirement already satisfied: pydantic<3.0.0,>=2.9.0 in c:\\programdata\\anaconda3\\lib\\site-packages (from ollama) (2.10.3)\n",
      "Requirement already satisfied: anyio in c:\\programdata\\anaconda3\\lib\\site-packages (from httpx<0.28.0,>=0.27.0->ollama) (4.2.0)\n",
      "Requirement already satisfied: certifi in c:\\programdata\\anaconda3\\lib\\site-packages (from httpx<0.28.0,>=0.27.0->ollama) (2024.12.14)\n",
      "Requirement already satisfied: httpcore==1.* in c:\\programdata\\anaconda3\\lib\\site-packages (from httpx<0.28.0,>=0.27.0->ollama) (1.0.2)\n",
      "Requirement already satisfied: idna in c:\\programdata\\anaconda3\\lib\\site-packages (from httpx<0.28.0,>=0.27.0->ollama) (3.4)\n",
      "Requirement already satisfied: sniffio in c:\\programdata\\anaconda3\\lib\\site-packages (from httpx<0.28.0,>=0.27.0->ollama) (1.3.0)\n",
      "Requirement already satisfied: h11<0.15,>=0.13 in c:\\programdata\\anaconda3\\lib\\site-packages (from httpcore==1.*->httpx<0.28.0,>=0.27.0->ollama) (0.14.0)\n",
      "Requirement already satisfied: annotated-types>=0.6.0 in c:\\programdata\\anaconda3\\lib\\site-packages (from pydantic<3.0.0,>=2.9.0->ollama) (0.6.0)\n",
      "Requirement already satisfied: pydantic-core==2.27.1 in c:\\programdata\\anaconda3\\lib\\site-packages (from pydantic<3.0.0,>=2.9.0->ollama) (2.27.1)\n",
      "Requirement already satisfied: typing-extensions>=4.12.2 in c:\\programdata\\anaconda3\\lib\\site-packages (from pydantic<3.0.0,>=2.9.0->ollama) (4.12.2)\n"
     ]
    },
    {
     "name": "stderr",
     "output_type": "stream",
     "text": [
      "DEPRECATION: Loading egg at c:\\programdata\\anaconda3\\lib\\site-packages\\vboxapi-1.0-py3.11.egg is deprecated. pip 24.3 will enforce this behaviour change. A possible replacement is to use pip for package installation.. Discussion can be found at https://github.com/pypa/pip/issues/12330\n"
     ]
    }
   ],
   "source": [
    "!pip install ollama"
   ]
  },
  {
   "cell_type": "code",
   "execution_count": 8,
   "id": "9aad93d1-cb31-415e-9f17-4cbb757d7fbf",
   "metadata": {},
   "outputs": [
    {
     "name": "stdout",
     "output_type": "stream",
     "text": [
      "Generative AI has numerous business applications across various industries. Here are some examples:\n",
      "\n",
      "1. **Content Creation**: Generative AI can generate high-quality content such as articles, blog posts, social media posts, and even entire books. This can help businesses save time and resources, while also providing unique and engaging content for their audience.\n",
      "2. **Marketing Automation**: Generative AI can be used to automate marketing campaigns, generating personalized messages, product descriptions, and even ad copy based on customer data and preferences.\n",
      "3. **Design and Visual Creation**: Generative AI can generate designs for products, packaging, logos, and more. This can help businesses reduce design costs and time-to-market, while also providing unique and creative visual identities.\n",
      "4. **Predictive Maintenance**: Generative AI can analyze sensor data from machines and equipment to predict maintenance needs, reducing downtime and increasing efficiency.\n",
      "5. **Chatbots and Virtual Assistants**: Generative AI can power chatbots and virtual assistants that provide customer support, answer frequently asked questions, and even engage in conversations with customers.\n",
      "6. **Financial Analysis and Predictions**: Generative AI can analyze financial data to predict market trends, identify potential risks, and optimize investment strategies.\n",
      "7. **Supply Chain Optimization**: Generative AI can analyze supply chain data to optimize logistics, manage inventory, and predict demand fluctuations.\n",
      "8. **Personalized Recommendations**: Generative AI can generate personalized product recommendations for e-commerce businesses, increasing sales and revenue.\n",
      "9. **Cybersecurity**: Generative AI can be used to detect and respond to cyber threats in real-time, improving security posture and reducing the risk of data breaches.\n",
      "10. **Creative Writing and Storytelling**: Generative AI can generate creative content such as scripts, stories, and even entire books, helping businesses create engaging and immersive experiences for their audience.\n",
      "\n",
      "Some specific industries that are already leveraging generative AI include:\n",
      "\n",
      "1. **E-commerce**: Personalized product recommendations, chatbots, and automated marketing campaigns.\n",
      "2. **Finance**: Predictive analytics, risk management, and portfolio optimization.\n",
      "3. **Healthcare**: Medical imaging analysis, patient data analysis, and personalized treatment plans.\n",
      "4. **Manufacturing**: Predictive maintenance, quality control, and supply chain optimization.\n",
      "5. **Media and Entertainment**: Content creation, personalized recommendations, and automated content generation.\n",
      "\n",
      "These are just a few examples of the many business applications of generative AI. As the technology continues to evolve, we can expect to see even more innovative use cases across various industries.\n"
     ]
    }
   ],
   "source": [
    "import ollama\n",
    "\n",
    "response = ollama.chat(model=MODEL, messages=messages)\n",
    "print(response['message']['content'])"
   ]
  },
  {
   "cell_type": "code",
   "execution_count": null,
   "id": "5ddf3efc-43e8-43d6-94ba-10ad0a2404c0",
   "metadata": {},
   "outputs": [],
   "source": []
  }
 ],
 "metadata": {
  "kernelspec": {
   "display_name": "Python 3 (ipykernel)",
   "language": "python",
   "name": "python3"
  },
  "language_info": {
   "codemirror_mode": {
    "name": "ipython",
    "version": 3
   },
   "file_extension": ".py",
   "mimetype": "text/x-python",
   "name": "python",
   "nbconvert_exporter": "python",
   "pygments_lexer": "ipython3",
   "version": "3.11.7"
  }
 },
 "nbformat": 4,
 "nbformat_minor": 5
}
