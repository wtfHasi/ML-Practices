{
 "cells": [
  {
   "cell_type": "markdown",
   "id": "08cacc7d-62e1-4d8e-9991-c433a5a7f211",
   "metadata": {},
   "source": [
    "First Step (Getting our Data Ready)"
   ]
  },
  {
   "cell_type": "code",
   "execution_count": 2,
   "id": "7df2719f-034c-4356-8ee3-defb40083f2f",
   "metadata": {},
   "outputs": [],
   "source": [
    "import pandas as pd"
   ]
  },
  {
   "cell_type": "code",
   "execution_count": 4,
   "id": "fc90736d-6b96-4051-a1f7-d587204d24d7",
   "metadata": {},
   "outputs": [],
   "source": [
    "df = pd.read_csv('netflix_titles.csv')"
   ]
  },
  {
   "cell_type": "code",
   "execution_count": 6,
   "id": "614c509e-acdd-4b90-83df-185b4ded773a",
   "metadata": {},
   "outputs": [
    {
     "name": "stdout",
     "output_type": "stream",
     "text": [
      "<class 'pandas.core.frame.DataFrame'>\n",
      "RangeIndex: 8807 entries, 0 to 8806\n",
      "Data columns (total 12 columns):\n",
      " #   Column        Non-Null Count  Dtype \n",
      "---  ------        --------------  ----- \n",
      " 0   show_id       8807 non-null   object\n",
      " 1   type          8807 non-null   object\n",
      " 2   title         8807 non-null   object\n",
      " 3   director      6173 non-null   object\n",
      " 4   cast          7982 non-null   object\n",
      " 5   country       7976 non-null   object\n",
      " 6   date_added    8797 non-null   object\n",
      " 7   release_year  8807 non-null   int64 \n",
      " 8   rating        8803 non-null   object\n",
      " 9   duration      8804 non-null   object\n",
      " 10  listed_in     8807 non-null   object\n",
      " 11  description   8807 non-null   object\n",
      "dtypes: int64(1), object(11)\n",
      "memory usage: 825.8+ KB\n",
      "None\n"
     ]
    }
   ],
   "source": [
    "print(df.info())\n",
    "df.dropna(subset=['type', 'title', 'release_year', 'rating'], inplace=True)"
   ]
  },
  {
   "cell_type": "code",
   "execution_count": 8,
   "id": "8f36d9e8-f753-4198-8987-88667f8e8872",
   "metadata": {},
   "outputs": [],
   "source": [
    "df_cleaned = df.dropna()"
   ]
  },
  {
   "cell_type": "code",
   "execution_count": 10,
   "id": "62933798-a994-4f6d-8fbc-a79aadff29e6",
   "metadata": {},
   "outputs": [
    {
     "name": "stdout",
     "output_type": "stream",
     "text": [
      "<class 'pandas.core.frame.DataFrame'>\n",
      "Index: 5332 entries, 7 to 8806\n",
      "Data columns (total 12 columns):\n",
      " #   Column        Non-Null Count  Dtype \n",
      "---  ------        --------------  ----- \n",
      " 0   show_id       5332 non-null   object\n",
      " 1   type          5332 non-null   object\n",
      " 2   title         5332 non-null   object\n",
      " 3   director      5332 non-null   object\n",
      " 4   cast          5332 non-null   object\n",
      " 5   country       5332 non-null   object\n",
      " 6   date_added    5332 non-null   object\n",
      " 7   release_year  5332 non-null   int64 \n",
      " 8   rating        5332 non-null   object\n",
      " 9   duration      5332 non-null   object\n",
      " 10  listed_in     5332 non-null   object\n",
      " 11  description   5332 non-null   object\n",
      "dtypes: int64(1), object(11)\n",
      "memory usage: 541.5+ KB\n",
      "None\n"
     ]
    }
   ],
   "source": [
    "# Check the resulting DataFrame\n",
    "print(df_cleaned.info())"
   ]
  },
  {
   "cell_type": "code",
   "execution_count": 24,
   "id": "6d16fe94-c498-4bcf-b236-82a0704f77dc",
   "metadata": {},
   "outputs": [],
   "source": [
    "def search_movies(df, search_criteria):\n",
    "    \"\"\"\n",
    "    Filter movies based on search criteria for type, title, and ratings.\n",
    "\n",
    "    Args:\n",
    "        df (DataFrame): The cleaned DataFrame containing movie data.\n",
    "        search_criteria (dict): Dictionary with keys 'type', 'title', and 'rating' with corresponding search values.\n",
    "\n",
    "    Returns:\n",
    "        DataFrame: Filtered DataFrame based on the criteria.\n",
    "    \"\"\"\n",
    "    filtered_df = df\n",
    "    \n",
    "    if search_criteria.get('type'):\n",
    "        filtered_df = filtered_df[filtered_df['type'].str.lower() == search_criteria['type'].lower()]\n",
    "        \n",
    "    #if search_criteria.get('title'):\n",
    "        #filtered_df = filtered_df[filtered_df['title'].str.contains(search_criteria['title'], case=False, na=False)]\n",
    "        \n",
    "    if search_criteria.get('rating'):\n",
    "        filtered_df = filtered_df[filtered_df['rating'].str.upper() == search_criteria['rating'].upper()]\n",
    "        \n",
    "    return filtered_df[['type', 'title', 'director', 'rating', 'release_year', 'description']]\n"
   ]
  },
  {
   "cell_type": "code",
   "execution_count": 28,
   "id": "9cb4baee-2988-4545-a19e-570c3656fff8",
   "metadata": {},
   "outputs": [
    {
     "name": "stdout",
     "output_type": "stream",
     "text": [
      "       type                    title         director rating  release_year  \\\n",
      "0     Movie     Dick Johnson Is Dead  Kirsten Johnson  PG-13          2020   \n",
      "9     Movie             The Starling   Theodore Melfi  PG-13          2021   \n",
      "27    Movie                Grown Ups     Dennis Dugan  PG-13          2010   \n",
      "28    Movie               Dark Skies    Scott Stewart  PG-13          2013   \n",
      "29    Movie                 Paranoia   Robert Luketic  PG-13          2013   \n",
      "...     ...                      ...              ...    ...           ...   \n",
      "8757  Movie       World Trade Center     Oliver Stone  PG-13          2006   \n",
      "8764  Movie               Wyatt Earp  Lawrence Kasdan  PG-13          1994   \n",
      "8766  Movie                      XXx        Rob Cohen  PG-13          2002   \n",
      "8767  Movie  XXX: State of the Union     Lee Tamahori  PG-13          2005   \n",
      "8782  Movie              Yoga Hosers      Kevin Smith  PG-13          2016   \n",
      "\n",
      "                                            description  \n",
      "0     As her father nears the end of his life, filmm...  \n",
      "9     A woman adjusting to life after a loss contend...  \n",
      "27    Mourning the loss of their beloved junior high...  \n",
      "28    A family’s idyllic suburban life shatters when...  \n",
      "29    Blackmailed by his company's CEO, a low-level ...  \n",
      "...                                                 ...  \n",
      "8757  Working under treacherous conditions, an army ...  \n",
      "8764  Legendary lawman Wyatt Earp is continually at ...  \n",
      "8766  A notorious underground rush-seeker deemed unt...  \n",
      "8767  In this action-packed follow-up to XXX, U.S. i...  \n",
      "8782  With an all-important high school party at sta...  \n",
      "\n",
      "[490 rows x 6 columns]\n"
     ]
    }
   ],
   "source": [
    "# Example search criteria from user input\n",
    "user_search = {\n",
    "    'type': 'Movie',\n",
    "    #'title': 'Inception',\n",
    "    'rating': 'PG-13'\n",
    "}\n",
    "\n",
    "# Perform search and display results\n",
    "filtered_movies = search_movies(df, user_search)\n",
    "print(filtered_movies)"
   ]
  },
  {
   "cell_type": "code",
   "execution_count": 20,
   "id": "7f133d19-bd00-492b-bfa2-b296cab0e3a8",
   "metadata": {},
   "outputs": [
    {
     "name": "stdout",
     "output_type": "stream",
     "text": [
      "Unique Ratings: ['PG-13' 'TV-MA' 'PG' 'TV-14' 'TV-PG' 'TV-Y' 'TV-Y7' 'R' 'TV-G' 'G'\n",
      " 'NC-17' '74 min' '84 min' '66 min' 'NR' 'TV-Y7-FV' 'UR']\n",
      "Number of Unique Ratings: 17\n"
     ]
    }
   ],
   "source": [
    "# Get the unique ratings and count them\n",
    "unique_ratings = df['rating'].unique()\n",
    "num_unique_ratings = df['rating'].nunique()\n",
    "\n",
    "# Print the unique ratings and their count\n",
    "print(f'Unique Ratings: {unique_ratings}')\n",
    "print(f'Number of Unique Ratings: {num_unique_ratings}')"
   ]
  },
  {
   "cell_type": "code",
   "execution_count": null,
   "id": "52e2f793-899e-408e-b19e-a3658feee53b",
   "metadata": {},
   "outputs": [],
   "source": []
  }
 ],
 "metadata": {
  "kernelspec": {
   "display_name": "Python 3 (ipykernel)",
   "language": "python",
   "name": "python3"
  },
  "language_info": {
   "codemirror_mode": {
    "name": "ipython",
    "version": 3
   },
   "file_extension": ".py",
   "mimetype": "text/x-python",
   "name": "python",
   "nbconvert_exporter": "python",
   "pygments_lexer": "ipython3",
   "version": "3.11.7"
  }
 },
 "nbformat": 4,
 "nbformat_minor": 5
}
