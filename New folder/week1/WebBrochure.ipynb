{
 "cells": [
  {
   "cell_type": "markdown",
   "id": "95c3dee9-c0a9-4ac8-9e4a-aba5fa9ce789",
   "metadata": {},
   "source": [
    "<span style=\"font-size: 20px; font-weight: bold;\">Business Brochure using it's Primary WebPage</span>"
   ]
  },
  {
   "cell_type": "code",
   "execution_count": 3,
   "id": "3477cbc0-4cbf-40fc-8345-ecfc0ea35bd6",
   "metadata": {},
   "outputs": [],
   "source": [
    "import os\n",
    "import requests\n",
    "import json\n",
    "from typing import List\n",
    "from dotenv import load_dotenv\n",
    "from bs4 import BeautifulSoup\n",
    "from IPython.display import Markdown, display, update_display"
   ]
  },
  {
   "cell_type": "code",
   "execution_count": null,
   "id": "3cba2c0a-f817-4491-8707-ffdf8401396d",
   "metadata": {},
   "outputs": [],
   "source": [
    "# Constants\n",
    "OLLAMA_API = \"http://localhost:11434/api/chat\"\n",
    "HEADERS = {\"Content-Type\": \"application/json\"}\n",
    "MODEL = \"llama3.2\""
   ]
  },
  {
   "cell_type": "code",
   "execution_count": null,
   "id": "4306d317-b73b-4432-b8f3-15a7e0e3adca",
   "metadata": {},
   "outputs": [],
   "source": []
  }
 ],
 "metadata": {
  "kernelspec": {
   "display_name": "Python 3 (ipykernel)",
   "language": "python",
   "name": "python3"
  },
  "language_info": {
   "codemirror_mode": {
    "name": "ipython",
    "version": 3
   },
   "file_extension": ".py",
   "mimetype": "text/x-python",
   "name": "python",
   "nbconvert_exporter": "python",
   "pygments_lexer": "ipython3",
   "version": "3.11.7"
  }
 },
 "nbformat": 4,
 "nbformat_minor": 5
}
